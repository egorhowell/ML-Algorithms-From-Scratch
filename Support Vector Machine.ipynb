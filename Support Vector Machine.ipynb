{
 "cells": [
  {
   "cell_type": "markdown",
   "metadata": {},
   "source": [
    "# Support Vector Machine From First Principles"
   ]
  },
  {
   "cell_type": "code",
   "execution_count": 1,
   "metadata": {},
   "outputs": [],
   "source": [
    "# import packages\n",
    "import numpy as np\n",
    "import pandas as pd\n",
    "import matplotlib.pyplot as plt\n",
    "from sklearn import datasets"
   ]
  },
  {
   "cell_type": "markdown",
   "metadata": {},
   "source": [
    "## This code implements SVM with no ML packages. The following block of code is the alogrithm using the OOP paradigm. "
   ]
  },
  {
   "cell_type": "code",
   "execution_count": 83,
   "metadata": {},
   "outputs": [],
   "source": [
    "# build the class for the model\n",
    "class model:\n",
    "    \n",
    "    # parameters\n",
    "    def __init__(self, alpha, reg, epochs):\n",
    "        \n",
    "        self.alpha = alpha      #learning rate\n",
    "        self.reg = reg          # regularization param\n",
    "        self.epochs = epochs  # number of iterations\n",
    "        self.w = None           # weights  \n",
    "        self.b = None           # biases\n",
    "        \n",
    "    # the algorithm\n",
    "    def fit(self, X, y):\n",
    "        \n",
    "        m, n = X.shape    # m -> examples, n -> no. of features\n",
    "\n",
    "        # creating subset array for where: \n",
    "        # wx + b <= 0   -> y == -1 and 1 otherwise\n",
    "        y_ = np.where(y <= 0, -1, 1)\n",
    "\n",
    "        # initialise weights and biases\n",
    "        self.w = np.zeros(n)\n",
    "        self.b = 0\n",
    "\n",
    "        # machine learning part\n",
    "        for _ in range(self.epochs):\n",
    "            \n",
    "            for i, x_i in enumerate(X):\n",
    "                \n",
    "                # satisfy the condition to update the weights and bias\n",
    "                if y_[i] * (np.dot(x_i, self.w) - self.b) >= 1:\n",
    "                    self.w = self.w - self.alpha * (2 * self.reg * self.w) # loss = 0, J = lambda*w^2\n",
    "                    \n",
    "                else:\n",
    "                    # J = lambda*w^2 + 1 - y_i(w . x_i  - b) \n",
    "                    self.w = self.w - self.alpha * (2 * self.reg * self.w - np.dot(x_i, y_[i]))\n",
    "                    self.b = self.b - self.alpha * y_[i]\n",
    "\n",
    "    # predictions                \n",
    "    def predict(self, X):\n",
    "        approx = np.dot(X, self.w) - self.b\n",
    "        return np.sign(approx)\n",
    "    \n",
    "    # accuracy method\n",
    "    def accuracy(self,y,predictions):\n",
    "        \n",
    "        counter = 0\n",
    "        \n",
    "        for i in range(len(y)):\n",
    "            if predictions[i] == y[i]:\n",
    "                counter += 1\n",
    "            \n",
    "        return print('The accuracy is:', (counter/len(y))*100, '%')"
   ]
  },
  {
   "cell_type": "markdown",
   "metadata": {},
   "source": [
    "## Acquiring Data, Plotting and Accuracy of the Model "
   ]
  },
  {
   "cell_type": "code",
   "execution_count": 91,
   "metadata": {},
   "outputs": [
    {
     "name": "stdout",
     "output_type": "stream",
     "text": [
      "The accuracy is: 100.0 %\n"
     ]
    },
    {
     "data": {
      "image/png": "[encoded data removed]",
      "text/plain": [
       "<Figure size 432x288 with 1 Axes>"
      ]
     },
     "metadata": {
      "needs_background": "light"
     },
     "output_type": "display_data"
    }
   ],
   "source": [
    "# Testing and training the model\n",
    "\n",
    "# generate the data with two clusters\n",
    "X, y = datasets.make_blobs(n_samples=50, n_features=2, centers=2, cluster_std=1, random_state=10)\n",
    "y = np.where(y <= 0, -1, 1)\n",
    "\n",
    "# apply the class to the data to train our model and generate predictions\n",
    "svm = model(alpha=0.01,reg=0.1,epochs=1000)\n",
    "svm.fit(X, y)\n",
    "predictions = svm.predict(X)\n",
    "\n",
    "# report the accuracy\n",
    "svm.accuracy(y,predictions)\n",
    "\n",
    "# function to plot the line and its margin\n",
    "def plotSVM():\n",
    "    \n",
    "    # value on the hyperplane\n",
    "    def hyperplane(X, w, b, offset):\n",
    "        return (-w[0] * X + b + offset) / w[1]\n",
    "\n",
    "    # plot the two classes\n",
    "    plt.scatter(X[:, 0], X[:, 1], marker=\"o\", c=y)\n",
    "\n",
    "    x0_min = np.min(X[:, 0])\n",
    "    x0_max = np.max(X[:, 0])\n",
    "\n",
    "    # line when wx - b = 0\n",
    "    x1_1 = hyperplane(x0_min, svm.w, svm.b, 0)\n",
    "    x1_2 = hyperplane(x0_max, svm.w, svm.b, 0)\n",
    "\n",
    "    # support vector when wx - b = -1\n",
    "    x1_neg = hyperplane(x0_min, svm.w, svm.b, -1)\n",
    "    x2_neg = hyperplane(x0_max, svm.w, svm.b, -1)\n",
    "\n",
    "    # support vector when wx - b = +1\n",
    "    x1_pos = hyperplane(x0_min, svm.w, svm.b, 1)\n",
    "    x2_pos = hyperplane(x0_max, svm.w, svm.b, 1)\n",
    "\n",
    "    plt.plot([x0_min, x0_max], [x1_1, x1_2], \"b--\")\n",
    "    plt.plot([x0_min, x0_max], [x1_neg, x2_neg], \"g\")\n",
    "    plt.plot([x0_min, x0_max], [x1_pos, x2_pos], \"g\")\n",
    "\n",
    "    x1_min = np.min(X[:, 1])\n",
    "    x1_max = np.max(X[:, 1])\n",
    "    plt.ylim([x1_min - 3, x1_max + 3])\n",
    "\n",
    "    plt.show()\n",
    "\n",
    "#plot the data    \n",
    "plotSVM()"
   ]
  },
  {
   "cell_type": "markdown",
   "metadata": {},
   "source": [
    "## The above code can be simply implemented using SKlearn"
   ]
  },
  {
   "cell_type": "code",
   "execution_count": 100,
   "metadata": {},
   "outputs": [],
   "source": [
    "# import packages\n",
    "from sklearn.model_selection import train_test_split\n",
    "from sklearn.svm import SVC\n",
    "from sklearn.metrics import classification_report, confusion_matrix"
   ]
  },
  {
   "cell_type": "code",
   "execution_count": 101,
   "metadata": {},
   "outputs": [],
   "source": [
    "# generate the data with two clusters\n",
    "X, y = datasets.make_blobs(n_samples=50, n_features=2, centers=2, cluster_std=1, random_state=10)"
   ]
  },
  {
   "cell_type": "code",
   "execution_count": 102,
   "metadata": {},
   "outputs": [
    {
     "data": {
      "text/plain": [
       "SVC(C=1.0, break_ties=False, cache_size=200, class_weight=None, coef0=0.0,\n",
       "    decision_function_shape='ovr', degree=3, gamma='scale', kernel='linear',\n",
       "    max_iter=-1, probability=False, random_state=None, shrinking=True,\n",
       "    tol=0.001, verbose=False)"
      ]
     },
     "execution_count": 102,
     "metadata": {},
     "output_type": "execute_result"
    }
   ],
   "source": [
    "# split and train model\n",
    "X_train, X_test, y_train, y_test = train_test_split(X, y, test_size = 0.20)\n",
    "svclassifier = SVC(kernel='linear')\n",
    "svclassifier.fit(X_train, y_train)"
   ]
  },
  {
   "cell_type": "code",
   "execution_count": 103,
   "metadata": {},
   "outputs": [
    {
     "name": "stdout",
     "output_type": "stream",
     "text": [
      "[[4 0]\n",
      " [0 6]]\n",
      "              precision    recall  f1-score   support\n",
      "\n",
      "           0       1.00      1.00      1.00         4\n",
      "           1       1.00      1.00      1.00         6\n",
      "\n",
      "    accuracy                           1.00        10\n",
      "   macro avg       1.00      1.00      1.00        10\n",
      "weighted avg       1.00      1.00      1.00        10\n",
      "\n"
     ]
    }
   ],
   "source": [
    "# accuracy and confusion matrix\n",
    "y_pred = svclassifier.predict(X_test)\n",
    "print(confusion_matrix(y_test, y_pred))\n",
    "print(classification_report(y_test, y_pred))"
   ]
  },
  {
   "cell_type": "code",
   "execution_count": null,
   "metadata": {},
   "outputs": [],
   "source": []
  }
 ],
 "metadata": {
  "kernelspec": {
   "display_name": "Python 3",
   "language": "python",
   "name": "python3"
  },
  "language_info": {
   "codemirror_mode": {
    "name": "ipython",
    "version": 3
   },
   "file_extension": ".py",
   "mimetype": "text/x-python",
   "name": "python",
   "nbconvert_exporter": "python",
   "pygments_lexer": "ipython3",
   "version": "3.7.6"
  }
 },
 "nbformat": 4,
 "nbformat_minor": 4
}
